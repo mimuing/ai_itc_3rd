{
 "cells": [
  {
   "cell_type": "code",
   "execution_count": 1,
   "metadata": {},
   "outputs": [],
   "source": [
    "import pandas as pd\n",
    "import os"
   ]
  },
  {
   "cell_type": "code",
   "execution_count": 2,
   "metadata": {},
   "outputs": [
    {
     "data": {
      "text/plain": [
       "['raw_doso/TB_TAT_KAMIS_PRC_MK_TB-2014.csv',\n",
       " 'raw_doso/TB_TAT_KAMIS_PRC_MK_TB-2015.csv',\n",
       " 'raw_doso/TB_TAT_KAMIS_PRC_MK_TB-2016.csv',\n",
       " 'raw_doso/TB_TAT_KAMIS_PRC_MK_TB-2017.csv',\n",
       " 'raw_doso/TB_TAT_KAMIS_PRC_MK_TB-2018.csv',\n",
       " 'raw_doso/TB_TAT_KAMIS_PRC_MK_TB-2019.csv',\n",
       " 'raw_doso/TB_TAT_KAMIS_PRC_MK_TB-2020.csv',\n",
       " 'raw_doso/TB_TAT_KAMIS_PRC_MK_TB-2021.csv',\n",
       " 'raw_doso/TB_TAT_KAMIS_PRC_MK_TB-2022.csv',\n",
       " 'raw_doso/TB_TAT_KAMIS_PRC_MK_TB-2023.csv']"
      ]
     },
     "execution_count": 2,
     "metadata": {},
     "output_type": "execute_result"
    }
   ],
   "source": [
    "# 연도별 엑셀 파일 명 리스트\n",
    "years = list(range(2014,2024))\n",
    "file_list = [f\"raw_doso/TB_TAT_KAMIS_PRC_MK_TB-{year}.csv\" for year in years]\n",
    "file_list"
   ]
  },
  {
   "cell_type": "code",
   "execution_count": 3,
   "metadata": {},
   "outputs": [
    {
     "name": "stderr",
     "output_type": "stream",
     "text": [
      "/var/folders/7d/d1khjvv95fs1dx3zplr2sfzh0000gn/T/ipykernel_8733/3747483925.py:13: DtypeWarning: Columns (25) have mixed types. Specify dtype option on import or set low_memory=False.\n",
      "  df = pd.read_csv(f\"raw_data/{file_name}\", encoding='cp949')\n",
      "/var/folders/7d/d1khjvv95fs1dx3zplr2sfzh0000gn/T/ipykernel_8733/3747483925.py:13: DtypeWarning: Columns (17,25) have mixed types. Specify dtype option on import or set low_memory=False.\n",
      "  df = pd.read_csv(f\"raw_data/{file_name}\", encoding='cp949')\n",
      "/var/folders/7d/d1khjvv95fs1dx3zplr2sfzh0000gn/T/ipykernel_8733/3747483925.py:13: DtypeWarning: Columns (25) have mixed types. Specify dtype option on import or set low_memory=False.\n",
      "  df = pd.read_csv(f\"raw_data/{file_name}\", encoding='cp949')\n",
      "/var/folders/7d/d1khjvv95fs1dx3zplr2sfzh0000gn/T/ipykernel_8733/3747483925.py:13: DtypeWarning: Columns (25) have mixed types. Specify dtype option on import or set low_memory=False.\n",
      "  df = pd.read_csv(f\"raw_data/{file_name}\", encoding='cp949')\n",
      "/var/folders/7d/d1khjvv95fs1dx3zplr2sfzh0000gn/T/ipykernel_8733/3747483925.py:13: DtypeWarning: Columns (13,17) have mixed types. Specify dtype option on import or set low_memory=False.\n",
      "  df = pd.read_csv(f\"raw_data/{file_name}\", encoding='cp949')\n"
     ]
    },
    {
     "name": "stdout",
     "output_type": "stream",
     "text": [
      "        가격등록일자\n",
      "0     20140101\n",
      "1     20140102\n",
      "2     20140103\n",
      "3     20140104\n",
      "4     20140105\n",
      "...        ...\n",
      "3412  20230506\n",
      "3413  20230507\n",
      "3414  20230508\n",
      "3415  20230509\n",
      "3416  20230510\n",
      "\n",
      "[3417 rows x 1 columns]\n"
     ]
    }
   ],
   "source": [
    "# 저장할 df를 저장하는 딕셔너리\n",
    "dfs = {}\n",
    "\n",
    "# df에서 농산물 항목 목록\n",
    "products = ['깐마늘(수입)', '깐마늘(국산)']\n",
    "# products = ['방울토마토','풋고추','고구마','감자','배추','양배추','시금치','상추','오이','건고추','호박','토마토','무','깐마늘','양파','파','미나리','깻잎','파프리카','팽이버섯','새송이버섯','얼갈이배추','당근','부추','양상추']\n",
    "\n",
    "# 도매 소매 구분\n",
    "channels = ['도매', '소매']\n",
    "\n",
    "# 모든 연도별 파일 순회\n",
    "for file_name in file_list:\n",
    "    df = pd.read_csv(f\"raw_data/{file_name}\", encoding='cp949')\n",
    "    df.columns = ['가격등록일자','시장고유번호','시장코드','시장명','시도코드','시도명','시군구코드','시군구명','품목코드','품목명','품종코드','품종명','도소매조사구분코드','조사구분명','산물등급코드','산물등급명','품목가격','산지출하단위크기','산지출하단위명','도매출하단위크기','도매출하단위명','소매출하단위크기','소매출하단위명','친환경농산물출하단위크기','친환경농산물출하단위명','할인가격여부','ETL적재일시']\n",
    "    df = df[['가격등록일자','시장코드','시장명','시도코드','시도명','품목코드','품목명','품종코드','품종명','조사구분명','산물등급코드','산물등급명','품목가격','도매출하단위크기','도매출하단위명','소매출하단위크기','소매출하단위명']]\n",
    "    df['품목명'] = df['품목명'].astype(str)\n",
    "\n",
    "    # 각 농산물별로 df 분할\n",
    "    for product in products:\n",
    "        product_df = df[df['품목명'] == product] # 해당 농산물에 대한 df\n",
    "\n",
    "        for channel in channels:\n",
    "            channel_df = product_df[product_df['조사구분명'] == channel]\n",
    "            channel_df = channel_df[['가격등록일자','시장코드','시장명','시도코드','시도명','품목코드','품목명','품종코드','품종명','조사구분명','산물등급코드','산물등급명','품목가격',f'{channel}출하단위크기',f'{channel}출하단위명']]\n",
    "\n",
    "            # 딕셔너리에 농산물 데이터 프레일 저장\n",
    "            product_channel_key = f\"{product}_{channel}\"\n",
    "            if product_channel_key not in dfs:\n",
    "                dfs[product_channel_key] = channel_df\n",
    "            else:\n",
    "                # pd.concat 사용해 df 연결\n",
    "                dfs[product_channel_key] = pd.concat([dfs[product_channel_key], channel_df])\n",
    "\n",
    "\n",
    "\n",
    "# 범위 시작 및 종료 날짜\n",
    "start_date = '2014-01-01'\n",
    "end_date = '2023-05-10'\n",
    "\n",
    "# 지정된 범위의 날짜를 포함하는 시리즈 생성\n",
    "date_series = pd.date_range(start=start_date, end=end_date, freq='D')\n",
    "\n",
    "# 날짜를 원하는 숫자 형식으로 변환\n",
    "numeric_dates = date_series.strftime('%Y%m%d').astype(int)\n",
    "\n",
    "# 숫자 형식의 날짜를 포함하는 데이터프레임 생성\n",
    "date_df = pd.DataFrame(numeric_dates, columns=['가격등록일자'])\n",
    "\n",
    "print(date_df)\n",
    "\n",
    "\n",
    "# 각 농산물별로 새로운 엑셀 파일 저장\n",
    "output_folder = \"output/doso\"\n",
    "for product_channel_key, product_channel_df in dfs.items():\n",
    "    product_channel_df = pd.merge(date_df,product_channel_df, left_on='가격등록일자', right_on='가격등록일자', how='outer')\n",
    "    # 필요하다면 인덱스를 리셋하여 저장\n",
    "    output_df = product_channel_df.reset_index(drop=True)\n",
    "    output_path = os.path.join(output_folder, f\"{product_channel_key}_prices.xlsx\")\n",
    "    output_df.to_excel(output_path, index=False)"
   ]
  }
 ],
 "metadata": {
  "kernelspec": {
   "display_name": "python3.8",
   "language": "python",
   "name": "python3"
  },
  "language_info": {
   "codemirror_mode": {
    "name": "ipython",
    "version": 3
   },
   "file_extension": ".py",
   "mimetype": "text/x-python",
   "name": "python",
   "nbconvert_exporter": "python",
   "pygments_lexer": "ipython3",
   "version": "3.8.15"
  },
  "orig_nbformat": 4
 },
 "nbformat": 4,
 "nbformat_minor": 2
}
