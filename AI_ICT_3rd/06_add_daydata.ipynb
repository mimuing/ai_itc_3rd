{
 "cells": [
  {
   "cell_type": "code",
   "execution_count": 1,
   "metadata": {},
   "outputs": [],
   "source": [
    "import pandas as pd\n",
    "import numpy as np\n",
    "import os\n",
    "import datetime\n"
   ]
  },
  {
   "cell_type": "markdown",
   "metadata": {},
   "source": [
    "### 요일/연중주차/연중일차/분기/월중일자 정보 추가\n"
   ]
  },
  {
   "cell_type": "code",
   "execution_count": 4,
   "metadata": {},
   "outputs": [],
   "source": [
    "def get_day_of_week(date_int):\n",
    "    date_str = str(date_int)\n",
    "    year, month, day = int(date_str[:4]), int(date_str[4:6]), int(date_str[6:])\n",
    "    date_object = datetime.date(year, month, day)\n",
    "    return date_object.strftime('%A')\n",
    "\n",
    "def get_week_of_year(date_int):\n",
    "    date_str = str(date_int)\n",
    "    year, month, day = int(date_str[:4]), int(date_str[4:6]), int(date_str[6:])\n",
    "    date_object = datetime.date(year, month, day)\n",
    "    return date_object.isocalendar()[1]\n",
    "\n",
    "def get_day_of_year(date_int):\n",
    "    date_str = str(date_int)\n",
    "    year, month, day = int(date_str[:4]), int(date_str[4:6]), int(date_str[6:])\n",
    "    date_object = datetime.date(year, month, day)\n",
    "    return date_object.timetuple().tm_yday\n",
    "\n",
    "def get_quarter(date_int):\n",
    "    date_str = str(date_int)\n",
    "    month = int(date_str[4:6])\n",
    "    return (month - 1) // 3 + 1\n",
    "\n",
    "def get_day_of_month(date_int):\n",
    "    date_str = str(date_int)\n",
    "    return int(date_str[6:])"
   ]
  },
  {
   "cell_type": "code",
   "execution_count": 2,
   "metadata": {},
   "outputs": [],
   "source": [
    "folder_path = \"../AI/DATA/data/train/selected_train/Train/Train_END/\" "
   ]
  },
  {
   "cell_type": "code",
   "execution_count": 6,
   "metadata": {},
   "outputs": [
    {
     "name": "stdout",
     "output_type": "stream",
     "text": [
      "4\n",
      "15\n",
      "29\n",
      "28\n",
      "14\n",
      "5\n",
      "7\n",
      "16\n",
      "17\n",
      "6\n",
      "2\n",
      "13\n",
      "12\n",
      "3\n",
      "1\n",
      "10\n",
      "11\n",
      "20\n",
      "21\n",
      "23\n",
      "22\n",
      "26\n",
      "27\n",
      "8\n",
      "19\n",
      "25\n",
      "24\n",
      "18\n",
      "9\n"
     ]
    }
   ],
   "source": [
    "# 폴더 내의 파일 목록 읽어오기\n",
    "file_list = os.listdir(folder_path)\n",
    "\n",
    "for file in file_list:\n",
    "\n",
    "    # csv 파일만 처리\n",
    "    if file.endswith(\".csv\"):\n",
    "        code_name = file.split(\"_\")[1].split(\".\")[0]\n",
    "\n",
    "        file_path = os.path.join(folder_path, file)\n",
    "        df = pd.read_csv(file_path)\n",
    "\n",
    "        # 일자정보처리\n",
    "        df['요일'] = df['datadate'].apply(get_day_of_week)\n",
    "         # 'day'열에서 딕셔너리를 사용하여 한글 값으로 변경\n",
    "        week_dict = {'Monday': '월', 'Tuesday': '화', 'Wednesday': '수', 'Thursday': '목', 'Friday': '금', 'Saturday': '토', 'Sunday': '일'}\n",
    "        df['요일'] = df['요일'].apply(lambda x: week_dict.get(x, x))\n",
    "\n",
    "        df['연중주차'] = df['datadate'].apply(get_week_of_year)\n",
    "        df['연중일차'] = df['datadate'].apply(get_day_of_year)\n",
    "        df['분기'] = df['datadate'].apply(get_quarter)\n",
    "        df['월중일자'] = df['datadate'].apply(get_day_of_month)\n",
    "\n",
    "        print(code_name)\n",
    "\n",
    "        df.to_csv(f'./DATA/data/train/selected_train/Train/Train_END/Train+day/train_{code_name}.csv', index=False)"
   ]
  }
 ],
 "metadata": {
  "kernelspec": {
   "display_name": "python3.8",
   "language": "python",
   "name": "python3"
  },
  "language_info": {
   "codemirror_mode": {
    "name": "ipython",
    "version": 3
   },
   "file_extension": ".py",
   "mimetype": "text/x-python",
   "name": "python",
   "nbconvert_exporter": "python",
   "pygments_lexer": "ipython3",
   "version": "3.8.15"
  },
  "orig_nbformat": 4
 },
 "nbformat": 4,
 "nbformat_minor": 2
}
