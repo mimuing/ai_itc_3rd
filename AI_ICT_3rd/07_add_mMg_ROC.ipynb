{
 "cells": [
  {
   "cell_type": "code",
   "execution_count": 7,
   "metadata": {},
   "outputs": [],
   "source": [
    "import pandas as pd\n",
    "import seaborn as sns\n",
    "import matplotlib.pyplot as plt\n",
    "import os\n",
    "import numpy as np"
   ]
  },
  {
   "cell_type": "markdown",
   "metadata": {},
   "source": [
    "### 가격과 물량의 min-Max-gap / ROC 파생변수 추가"
   ]
  },
  {
   "cell_type": "code",
   "execution_count": 8,
   "metadata": {},
   "outputs": [
    {
     "name": "stderr",
     "output_type": "stream",
     "text": [
      "/var/folders/7d/d1khjvv95fs1dx3zplr2sfzh0000gn/T/ipykernel_6390/4236765408.py:40: RuntimeWarning: divide by zero encountered in double_scalars\n",
      "  ROC = (current_value - past_value) / past_value\n",
      "/var/folders/7d/d1khjvv95fs1dx3zplr2sfzh0000gn/T/ipykernel_6390/4236765408.py:40: RuntimeWarning: divide by zero encountered in double_scalars\n",
      "  ROC = (current_value - past_value) / past_value\n",
      "/var/folders/7d/d1khjvv95fs1dx3zplr2sfzh0000gn/T/ipykernel_6390/4236765408.py:40: RuntimeWarning: divide by zero encountered in double_scalars\n",
      "  ROC = (current_value - past_value) / past_value\n"
     ]
    }
   ],
   "source": [
    "folder_path = \"../AI/DATA/data/Train_0630/\" \n",
    "\n",
    "# 가짜 데이터 생성\n",
    "columns = ['해당일자_전체거래물량', '하위가격 거래물량(kg)', '상위가격 거래물량(kg)', '총거래대금', '해당일자_평균가격', '하위가격 평균가(원)', '상위가격 평균가(원)',\n",
    "          '일자별_도매가격_최대(원)', '일자별_도매가격_평균(원)', '일자별_도매가격_최소(원)', '일자별_소매가격_최대(원)', '일자별_소매가격_평균(원)', '일자별_소매가격_최소(원)']\n",
    "\n",
    "# 구간 설정 (2주: 14일)\n",
    "window = 14\n",
    "\n",
    "# 폴더 내의 파일 목록 읽어오기\n",
    "file_list = os.listdir(folder_path)\n",
    "\n",
    "for file in file_list:\n",
    "\n",
    "    # csv 파일만 처리\n",
    "    if file.endswith(\".csv\"):\n",
    "        code_name = file.split(\"_\")[1].split(\".\")[0]\n",
    "\n",
    "        file_path = os.path.join(folder_path, file)\n",
    "        df = pd.read_csv(file_path)\n",
    "\n",
    "        # 각 열에 대해 작업 수행\n",
    "        for column in columns:\n",
    "            new_column_name_mMG = f\"{column}_mMG\"\n",
    "            new_column_name_ROC = f\"{column}_ROC\"\n",
    "            df[new_column_name_mMG] = None\n",
    "            df[new_column_name_ROC] = None\n",
    "\n",
    "            # min-max gap 추가\n",
    "            for idx in range(len(df) - window + 1):\n",
    "                min_value = df.iloc[idx:idx + window][column].min()\n",
    "                max_value = df.iloc[idx:idx + window][column].max()\n",
    "                gap = max_value - min_value\n",
    "                df.loc[idx, new_column_name_mMG] = gap\n",
    "\n",
    "            # ROC 추가\n",
    "            for idx in range(window, len(df)):\n",
    "                past_value = df.loc[idx - window, column]\n",
    "                current_value = df.loc[idx, column]\n",
    "                ROC = (current_value - past_value) / past_value\n",
    "                df.loc[idx, new_column_name_ROC] = ROC\n",
    "\n",
    "        df.to_csv(f'./DATA/data/Train_0630/Train_MMG_ROC/Train_{code_name}.csv', index = False)"
   ]
  }
 ],
 "metadata": {
  "kernelspec": {
   "display_name": "python3.8",
   "language": "python",
   "name": "python3"
  },
  "language_info": {
   "codemirror_mode": {
    "name": "ipython",
    "version": 3
   },
   "file_extension": ".py",
   "mimetype": "text/x-python",
   "name": "python",
   "nbconvert_exporter": "python",
   "pygments_lexer": "ipython3",
   "version": "3.8.15"
  },
  "orig_nbformat": 4
 },
 "nbformat": 4,
 "nbformat_minor": 2
}
