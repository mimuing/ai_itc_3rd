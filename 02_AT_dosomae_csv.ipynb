{
 "cells": [
  {
   "cell_type": "markdown",
   "metadata": {},
   "source": [
    "###  AT KAMIS _ 일별 품목별 도·소매가격정보 API "
   ]
  },
  {
   "cell_type": "code",
   "execution_count": 1,
   "metadata": {},
   "outputs": [],
   "source": [
    "import requests\n",
    "import pprint\n",
    "import json\n",
    "import pandas as pd\n",
    "from pandas.io.json import json_normalize\n",
    "import xmltodict\n",
    "from bs4 import BeautifulSoup"
   ]
  },
  {
   "cell_type": "markdown",
   "metadata": {},
   "source": [
    "### API 이용 데이터 파싱\n",
    "이렇게도 할 수 있지만, 이번 분석에서는 공공데이터에 연도별로 올라와 있는 csv 파일 이용해서 분석함."
   ]
  },
  {
   "cell_type": "code",
   "execution_count": 2,
   "metadata": {},
   "outputs": [
    {
     "name": "stdout",
     "output_type": "stream",
     "text": [
      "20230501\n",
      "날짜별 데이터 수: 142\n",
      "20230502\n",
      "날짜별 데이터 수: 192\n",
      "20230503\n",
      "날짜별 데이터 수: 153\n",
      "20230504\n",
      "날짜별 데이터 수: 109\n",
      "20230505\n",
      "날짜별 데이터 수: 141\n",
      "20230506\n",
      "날짜별 데이터 수: 43\n",
      "20230507\n",
      "날짜별 데이터 수: 0\n",
      "20230508\n",
      "날짜별 데이터 수: 158\n",
      "20230509\n",
      "날짜별 데이터 수: 172\n",
      "20230510\n",
      "날짜별 데이터 수: 132\n"
     ]
    }
   ],
   "source": [
    "key = '6afbdb611f88b65c19d0ac313cc7eac05d5fdb390ecd2de82fa14566c2fb03e4'\n",
    "apiUrl = 'Grid_20161221000000000429_1'\n",
    "startIndex = 1\n",
    "endIndex = 1000\n",
    "\n",
    "# 범위 시작 및 종료 날짜\n",
    "start_date = '2023-05-01'\n",
    "end_date = '2023-05-10'\n",
    "\n",
    "# 지정된 범위의 날짜를 포함하는 시리즈 생성\n",
    "date_series = pd.date_range(start=start_date, end=end_date, freq='D')\n",
    "\n",
    "# 날짜를 원하는 숫자 형식으로 변환\n",
    "numeric_dates = date_series.strftime('%Y%m%d').astype(int)\n",
    "\n",
    "# 숫자 형식의 날짜를 포함하는 데이터프레임 생성\n",
    "date_df = pd.DataFrame(numeric_dates, columns=['가격등록일자'])\n",
    "# 숫자 형식의 날짜를 포함하는 데이터프레임 리스트로 변경\n",
    "dateList = date_df['가격등록일자'].tolist()\n",
    "\n",
    "# 품종코드 리스트\n",
    "pumjongCd_list = ['110301']\n",
    "\n",
    "pummok_df = pd.DataFrame()\n",
    "\n",
    "# 지정한 기간동안 for문 반복\n",
    "for date in dateList:\n",
    "    for pumjongCd in pumjongCd_list:\n",
    "        url = f'http://211.237.50.150:7080/openapi/{key}/xml/{apiUrl}/{startIndex}/{endIndex}?AUCNG_DE={date}&SPCIES_CD={pumjongCd}'\n",
    "        response = requests.get(url)\n",
    "        xml_data = xmltodict.parse(response.content)\n",
    "        data = xml_data[apiUrl]\n",
    "        print(date)\n",
    "        print(\"날짜별 데이터 수: \"+data['totalCnt'])\n",
    "        data_count = int(data['totalCnt'])\n",
    "        if data_count > 0:\n",
    "            data_list = xml_data[apiUrl]['row']\n",
    "            daily_df = pd.DataFrame(data_list)\n",
    "            pummok_df = pd.concat([pummok_df, daily_df])\n",
    "        else:\n",
    "            # totalCnt가 0인 경우 빈 데이터프레임을 생성하고 NaN 값으로 채운 다음 데이터를 합침\n",
    "            empty_daily_df = pd.DataFrame(columns=pummok_df.columns)\n",
    "            empty_daily_df.loc[0,:] = pd.NA # 모든 값이 결측값인 행을 추가\n",
    "            empty_daily_df['AUCNG_DE'] = date\n",
    "            pummok_df = pd.concat([pummok_df, empty_daily_df])\n",
    "\n",
    "pummok_df = pummok_df.drop([pummok_df.columns[0]],axis=1)\n",
    "pummok_df.columns = ['datadate', '도매시장명', '도매시장코드', '법인명', '법인코드','원표번호','일련번호','경매시간','품목명','품목코드','품종명','품종코드','경락가','거래단량','규격','규격코드','등급','등급코드','산지코드','산지명','거래량']\n",
    "# pummok_df = pummok_df['datadate', '도매시장명', '도매시장코드', '법인명', '법인코드','품목명','품목코드','품종명','품종코드','경락가','거래단량','규격','규격코드','등급','등급코드','산지코드','산지명','거래량']\n",
    "\n",
    "\n",
    "pummok_df.to_excel('20230616_경락_병합_test.xlsx',index=True)"
   ]
  },
  {
   "cell_type": "markdown",
   "metadata": {},
   "source": [
    "### 농산물 도소매 가격_ 연도별 CSV file 이용\n",
    "데이터 파싱"
   ]
  },
  {
   "cell_type": "code",
   "execution_count": 5,
   "metadata": {},
   "outputs": [],
   "source": [
    "import pandas as pd\n",
    "import os"
   ]
  },
  {
   "cell_type": "code",
   "execution_count": 6,
   "metadata": {},
   "outputs": [
    {
     "data": {
      "text/plain": [
       "['raw_doso/TB_TAT_KAMIS_PRC_MK_TB-2017.csv',\n",
       " 'raw_doso/TB_TAT_KAMIS_PRC_MK_TB-2018.csv',\n",
       " 'raw_doso/TB_TAT_KAMIS_PRC_MK_TB-2019.csv',\n",
       " 'raw_doso/TB_TAT_KAMIS_PRC_MK_TB-2020.csv',\n",
       " 'raw_doso/TB_TAT_KAMIS_PRC_MK_TB-2021.csv',\n",
       " 'raw_doso/TB_TAT_KAMIS_PRC_MK_TB-2022.csv',\n",
       " 'raw_doso/TB_TAT_KAMIS_PRC_MK_TB-2023.csv']"
      ]
     },
     "execution_count": 6,
     "metadata": {},
     "output_type": "execute_result"
    }
   ],
   "source": [
    "# 연도별 엑셀 파일 명 리스트\n",
    "years = list(range(2017,2024))\n",
    "file_list = [f\"raw_doso/TB_TAT_KAMIS_PRC_MK_TB-{year}.csv\" for year in years]\n",
    "file_list"
   ]
  },
  {
   "cell_type": "code",
   "execution_count": 8,
   "metadata": {},
   "outputs": [
    {
     "name": "stdout",
     "output_type": "stream",
     "text": [
      "        가격등록일자\n",
      "0     20170101\n",
      "1     20170102\n",
      "2     20170103\n",
      "3     20170104\n",
      "4     20170105\n",
      "...        ...\n",
      "2316  20230506\n",
      "2317  20230507\n",
      "2318  20230508\n",
      "2319  20230509\n",
      "2320  20230510\n",
      "\n",
      "[2321 rows x 1 columns]\n"
     ]
    }
   ],
   "source": [
    "# 범위 시작 및 종료 날짜\n",
    "start_date = '2017-01-01'\n",
    "end_date = '2023-05-10'\n",
    "\n",
    "# 지정된 범위의 날짜를 포함하는 시리즈 생성\n",
    "date_series = pd.date_range(start=start_date, end=end_date, freq='D')\n",
    "\n",
    "# 날짜를 원하는 숫자 형식으로 변환\n",
    "numeric_dates = date_series.strftime('%Y%m%d').astype(int)\n",
    "\n",
    "# 숫자 형식의 날짜를 포함하는 데이터프레임 생성\n",
    "date_df = pd.DataFrame(numeric_dates, columns=['가격등록일자'])\n",
    "\n",
    "print(date_df)"
   ]
  },
  {
   "cell_type": "code",
   "execution_count": 14,
   "metadata": {},
   "outputs": [
    {
     "name": "stderr",
     "output_type": "stream",
     "text": [
      "/var/folders/7d/d1khjvv95fs1dx3zplr2sfzh0000gn/T/ipykernel_25214/4012928245.py:16: DtypeWarning: Columns (25) have mixed types. Specify dtype option on import or set low_memory=False.\n",
      "  df = pd.read_csv(f\"{file_name}\", encoding='cp949')\n",
      "/var/folders/7d/d1khjvv95fs1dx3zplr2sfzh0000gn/T/ipykernel_25214/4012928245.py:16: DtypeWarning: Columns (25) have mixed types. Specify dtype option on import or set low_memory=False.\n",
      "  df = pd.read_csv(f\"{file_name}\", encoding='cp949')\n",
      "/var/folders/7d/d1khjvv95fs1dx3zplr2sfzh0000gn/T/ipykernel_25214/4012928245.py:16: DtypeWarning: Columns (13,17) have mixed types. Specify dtype option on import or set low_memory=False.\n",
      "  df = pd.read_csv(f\"{file_name}\", encoding='cp949')\n"
     ]
    }
   ],
   "source": [
    "# 저장할 df를 저장하는 딕셔너리\n",
    "dfs = {}\n",
    "\n",
    "# # df에서 농산물 항목 목록\n",
    "# # 품목명\n",
    "# products = ['방울토마토','고구마','감자','배추','양배추','시금치','건고추','토마토','무','깐마늘(국산)','양파','미나리','깻잎','파프리카','팽이버섯','새송이버섯','얼갈이배추','당근']\n",
    "# 품종명\n",
    "# products = ['청양고추','꽈리고추','청','다다기계통','가시계통','취청','애호박','쥬키니','대파','쪽파']\n",
    "products = ['청양고추']\n",
    "\n",
    "# 도매 소매 구분\n",
    "channels = ['도매', '소매']\n",
    "\n",
    "# 모든 연도별 파일 순회\n",
    "for file_name in file_list:\n",
    "    df = pd.read_csv(f\"{file_name}\", encoding='cp949')\n",
    "    df.columns = ['가격등록일자','시장고유번호','시장코드','시장명','시도코드','시도명','시군구코드','시군구명','품목코드','품목명','품종코드','품종명','도소매조사구분코드','조사구분명','산물등급코드','산물등급명','품목가격','산지출하단위크기','산지출하단위명','도매출하단위크기','도매출하단위명','소매출하단위크기','소매출하단위명','친환경농산물출하단위크기','친환경농산물출하단위명','할인가격여부','ETL적재일시']\n",
    "    df = df[['가격등록일자','시장코드','시장명','시도코드','시도명','품목코드','품목명','품종코드','품종명','조사구분명','산물등급코드','산물등급명','품목가격','도매출하단위크기','도매출하단위명','소매출하단위크기','소매출하단위명']]\n",
    "    df['품종명'] = df['품종명'].astype(str)\n",
    "\n",
    "    # 각 농산물별로 df 분할\n",
    "    for product in products:\n",
    "        product_df = df[df['품종명'] == product] # 해당 농산물에 대한 df\n",
    "\n",
    "        for channel in channels:\n",
    "            channel_df = product_df[product_df['조사구분명'] == channel]\n",
    "            channel_df = channel_df[['가격등록일자','시장코드','시장명','시도코드','시도명','품목코드','품목명','품종코드','품종명','조사구분명','산물등급코드','산물등급명','품목가격',f'{channel}출하단위크기',f'{channel}출하단위명']]\n",
    "\n",
    "            # 딕셔너리에 농산물 데이터 프레일 저장\n",
    "            product_channel_key = f\"{product}_{channel}\"\n",
    "            if product_channel_key not in dfs:\n",
    "                dfs[product_channel_key] = channel_df\n",
    "            else:\n",
    "                # pd.concat 사용해 df 연결\n",
    "                dfs[product_channel_key] = pd.concat([dfs[product_channel_key], channel_df])\n"
   ]
  },
  {
   "cell_type": "code",
   "execution_count": 15,
   "metadata": {},
   "outputs": [],
   "source": [
    "# 각 농산물별로 새로운 엑셀 파일 저장\n",
    "output_folder = \"output/doso_output\"\n",
    "for product_channel_key, product_channel_df in dfs.items():\n",
    "    product_channel_df = pd.merge(date_df,product_channel_df, left_on='가격등록일자', right_on='가격등록일자', how='outer')\n",
    "    # 필요하다면 인덱스를 리셋하여 저장\n",
    "    output_df = product_channel_df.reset_index(drop=True)\n",
    "    output_path = os.path.join(output_folder, f\"{product_channel_key}_prices.xlsx\")\n",
    "    output_df.to_excel(output_path, index=False)"
   ]
  }
 ],
 "metadata": {
  "kernelspec": {
   "display_name": "python3.8",
   "language": "python",
   "name": "python3"
  },
  "language_info": {
   "codemirror_mode": {
    "name": "ipython",
    "version": 3
   },
   "file_extension": ".py",
   "mimetype": "text/x-python",
   "name": "python",
   "nbconvert_exporter": "python",
   "pygments_lexer": "ipython3",
   "version": "3.8.15"
  },
  "orig_nbformat": 4
 },
 "nbformat": 4,
 "nbformat_minor": 2
}
