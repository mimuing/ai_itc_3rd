{
 "cells": [
  {
   "cell_type": "markdown",
   "metadata": {},
   "source": [
    "### AT 도매시장 통합홈페이지 _ 도매시장 실시간 경락 정보 API \n",
    "utl = https://at.agromarket.kr/openApi/price/real.do\n",
    "key = 3E5842610F7D41F180751BF664323136"
   ]
  },
  {
   "cell_type": "code",
   "execution_count": 7,
   "metadata": {},
   "outputs": [],
   "source": [
    "import requests\n",
    "import pprint\n",
    "import json\n",
    "import pandas as pd\n",
    "from pandas.io.json import json_normalize\n",
    "import xmltodict\n",
    "from bs4 import BeautifulSoup\n",
    "from datetime import datetime"
   ]
  },
  {
   "cell_type": "markdown",
   "metadata": {},
   "source": [
    "AT 경락 데이터 api 정보"
   ]
  },
  {
   "cell_type": "code",
   "execution_count": 8,
   "metadata": {},
   "outputs": [],
   "source": [
    "key = '6afbdb611f88b65c19d0ac313cc7eac05d5fdb390ecd2de82fa14566c2fb03e4'\n",
    "apiUrl = 'Grid_20161221000000000429_1'"
   ]
  },
  {
   "cell_type": "markdown",
   "metadata": {},
   "source": [
    "데이터 날짜 지정"
   ]
  },
  {
   "cell_type": "code",
   "execution_count": 10,
   "metadata": {},
   "outputs": [],
   "source": [
    "# 범위 시작 및 종료 날짜\n",
    "start_date_string = \"2017-01-01\"\n",
    "end_date_string = \"2017-01-31\"\n",
    "start_date =  datetime.strptime(start_date_string,'%Y-%m-%d')\n",
    "end_date = datetime.strptime(end_date_string,'%Y-%m-%d')\n",
    "\n",
    "# 지정된 범위의 날짜를 포함하는 시리즈 생성\n",
    "date_series = pd.date_range(start=start_date, end=end_date, freq='D')\n",
    "\n",
    "# 날짜를 원하는 숫자 형식으로 변환\n",
    "numeric_dates = date_series.strftime('%Y%m%d').astype(int)\n",
    "\n",
    "# 숫자 형식의 날짜를 포함하는 데이터프레임 생성\n",
    "date_df = pd.DataFrame(numeric_dates, columns=['가격등록일자'])\n",
    "# 숫자 형식의 날짜를 포함하는 데이터프레임 리스트로 변경\n",
    "dateList = date_df['가격등록일자'].tolist()"
   ]
  },
  {
   "cell_type": "markdown",
   "metadata": {},
   "source": [
    "Target 품목 정보(홈페이지에서 품목 이름별 정보 검색 후, 정리)"
   ]
  },
  {
   "cell_type": "code",
   "execution_count": 11,
   "metadata": {},
   "outputs": [],
   "source": [
    "pummok_list = [\n",
    "    {'pumjongCd_list': ['080801', '080602'], 'pummok_name': '방울토마토', 'pummok_numb': 1},\n",
    "    {'pumjongCd_list': ['120501'], 'pummok_name': '청양고추', 'pummok_numb': 2},\n",
    "    {'pumjongCd_list': ['120601'], 'pummok_name': '꽈리고추', 'pummok_numb': 3},\n",
    "    {'pumjongCd_list': ['050201'], 'pummok_name': '고구마', 'pummok_numb': 4},\n",
    "    {'pumjongCd_list': ['050101', '050103'], 'pummok_name': '감자', 'pummok_numb': 5},\n",
    "    {'pumjongCd_list': ['100101', '100102', '100103', '100104', '100105',], 'pummok_name': '배추', 'pummok_numb': 6},\n",
    "    {'pumjongCd_list': ['100401'], 'pummok_name': '양배추', 'pummok_numb': 7},\n",
    "    {'pumjongCd_list': ['100801'], 'pummok_name': '시금치', 'pummok_numb': 8},\n",
    "    {'pumjongCd_list': ['100501', '100503'], 'pummok_name': '청상추', 'pummok_numb': 9},\n",
    "    {'pumjongCd_list': ['100502', '100504'], 'pummok_name': '적상추', 'pummok_numb': 10},\n",
    "    {'pumjongCd_list': ['090102'], 'pummok_name': '다다기오이', 'pummok_numb': 11},\n",
    "    {'pumjongCd_list': ['090103'], 'pummok_name': '가시오이', 'pummok_numb': 12},\n",
    "    {'pumjongCd_list': ['090101'], 'pummok_name': '취청오이', 'pummok_numb': 13},\n",
    "    {'pumjongCd_list': ['120702', '120704', '120705', '120706'], 'pummok_name': '건고추', 'pummok_numb': 14},\n",
    "    {'pumjongCd_list': ['090201'], 'pummok_name': '애호박', 'pummok_numb': 15},\n",
    "    {'pumjongCd_list': ['090202'], 'pummok_name': '쥬키니호박', 'pummok_numb': 16},\n",
    "    {'pumjongCd_list': ['080301'], 'pummok_name': '토마토', 'pummok_numb': 17},\n",
    "    {'pumjongCd_list': ['110101', '110102', '110103', '110104'], 'pummok_name': '무', 'pummok_numb': 18},\n",
    "    {'pumjongCd_list': ['120906'], 'pummok_name': '깐마늘', 'pummok_numb': 19},\n",
    "    {'pumjongCd_list': ['120101'], 'pummok_name': '양파', 'pummok_numb': 20},\n",
    "    {'pumjongCd_list': ['120201'], 'pummok_name': '대파', 'pummok_numb': 21},\n",
    "    {'pumjongCd_list': ['120301'], 'pummok_name': '쪽파', 'pummok_numb': 22},\n",
    "    {'pumjongCd_list': ['100901'], 'pummok_name': '미나리', 'pummok_numb': 23},\n",
    "    {'pumjongCd_list': ['101101'], 'pummok_name': '깻잎', 'pummok_numb': 24},\n",
    "    {'pumjongCd_list': ['132601'], 'pummok_name': '파프리카', 'pummok_numb': 25},\n",
    "    {'pumjongCd_list': ['170501'], 'pummok_name': '팽이버섯', 'pummok_numb': 26},\n",
    "    {'pumjongCd_list': ['171101'], 'pummok_name': '새송이버섯', 'pummok_numb': 27},\n",
    "    {'pumjongCd_list': ['100201'], 'pummok_name': '얼갈이배추', 'pummok_numb': 28},\n",
    "    {'pumjongCd_list': ['110301'], 'pummok_name': '당근', 'pummok_numb': 29},\n",
    "]\n"
   ]
  },
  {
   "cell_type": "code",
   "execution_count": 12,
   "metadata": {},
   "outputs": [],
   "source": [
    "# 품목별 확인을 위해 하나씩 진행해봄\n",
    "pummok_list = [\n",
    "    {'pumjongCd_list': ['110301'], 'pummok_name': '당근', 'pummok_numb': 29},\n",
    "]"
   ]
  },
  {
   "cell_type": "markdown",
   "metadata": {},
   "source": [
    "데이터 Parsing"
   ]
  },
  {
   "cell_type": "code",
   "execution_count": 13,
   "metadata": {},
   "outputs": [
    {
     "name": "stdout",
     "output_type": "stream",
     "text": [
      "당근\n",
      "당근: Saved data for 20170101\n",
      "당근: Saved data for 20170102\n",
      "당근: Saved data for 20170103\n",
      "당근: Saved data for 20170104\n",
      "당근: Saved data for 20170105\n",
      "당근: Saved data for 20170106\n",
      "당근: Saved data for 20170107\n",
      "당근: Saved data for 20170108\n",
      "당근: Saved data for 20170109\n",
      "당근: Saved data for 20170110\n",
      "당근: Saved data for 20170111\n",
      "당근: Saved data for 20170112\n",
      "당근: Saved data for 20170113\n",
      "당근: Saved data for 20170114\n",
      "당근: Saved data for 20170115\n",
      "당근: Saved data for 20170116\n",
      "당근: Saved data for 20170117\n",
      "당근: Saved data for 20170118\n",
      "당근: Saved data for 20170119\n",
      "당근: Saved data for 20170120\n",
      "당근: Saved data for 20170121\n",
      "당근: Saved data for 20170122\n",
      "당근: Saved data for 20170123\n",
      "당근: Saved data for 20170124\n",
      "당근: Saved data for 20170125\n",
      "당근: Saved data for 20170126\n",
      "당근: Saved data for 20170127\n",
      "당근: Saved data for 20170128\n",
      "당근: Saved data for 20170129\n",
      "당근: Saved data for 20170130\n",
      "당근: Saved data for 20170131\n"
     ]
    }
   ],
   "source": [
    "import os\n",
    "\n",
    "for pummok in pummok_list:\n",
    "    \n",
    "    pumjongCd_list = pummok['pumjongCd_list']\n",
    "    pummok_name = pummok['pummok_name']\n",
    "    pummok_numb = pummok['pummok_numb']\n",
    "\n",
    "    print(pummok_name)\n",
    "\n",
    "    output_folder = 'excel_result'\n",
    "    \n",
    "    if not os.path.exists(output_folder):\n",
    "        os.makedirs(output_folder)\n",
    "\n",
    "    output_file = f'{output_folder}/pummok_{pummok_name}.csv'\n",
    "    \n",
    "    for date in dateList:\n",
    "        \n",
    "        daily_pummok_df = pd.DataFrame()\n",
    "        # daily_pummok_df['datadate'] = pd.Series(dtype=object)\n",
    "        daily_pummok_df = pd.DataFrame(columns=['datadate', '도매시장코드','품종코드','경락가','거래단량','거래량','산지코드','산지명']) \n",
    "        num_data = 1000\n",
    "\n",
    "        for pumjongCd in pumjongCd_list:\n",
    "            step = 0\n",
    "            num_data = 1000\n",
    "        \n",
    "            while True:\n",
    "                startIndex = step * num_data + 1\n",
    "                endIndex = (step + 1) * num_data\n",
    "        \n",
    "                url = f'http://211.237.50.150:7080/openapi/{key}/xml/{apiUrl}/{startIndex}/{endIndex}?AUCNG_DE={date}&SPCIES_CD={pumjongCd}'\n",
    "                response = requests.get(url)\n",
    "                xml_data = xmltodict.parse(response.content)\n",
    "                data = xml_data[apiUrl]\n",
    "                data_count = int(data['totalCnt'])\n",
    "            \n",
    "                if data_count > 0:\n",
    "                    data_list = [xml_data[apiUrl]['row']] if isinstance(xml_data[apiUrl]['row'], dict) else xml_data[apiUrl]['row']\n",
    "                    daily_df = pd.DataFrame(data_list)\n",
    "                    daily_df = daily_df.drop('ROW_NUM', axis=1)\n",
    "                    daily_df.columns = ['datadate', '도매시장명', '도매시장코드', '법인명', '법인코드','원표번호','일련번호','경매시간','품목명','품목코드','품종명','품종코드','경락가','거래단량','규격','규격코드','등급','등급코드','산지코드','산지명','거래량']\n",
    "                    daily_df = daily_df[['datadate', '도매시장코드','품종코드','경락가','거래단량','거래량','산지코드','산지명']]\n",
    "                    daily_pummok_df = pd.concat([daily_pummok_df, daily_df], ignore_index=True)\n",
    "                else:\n",
    "                    # 빈 행이 품종별로 생기니까 하나 생기고 나면 더 안생기게.\n",
    "                    if date not in daily_pummok_df['datadate'].values:\n",
    "                        # totalCnt가 0인 경우 빈 데이터프레임을 생성하고 NaN 값으로\n",
    "                        empty_daily_df = pd.DataFrame(columns=daily_pummok_df.columns)\n",
    "                        empty_daily_df.loc[0, :] = pd.NA  # 모든 값이 결측값인 행을 추가\n",
    "                        empty_daily_df['datadate'] = date\n",
    "                        daily_pummok_df = pd.concat([daily_pummok_df, empty_daily_df], ignore_index=True)\n",
    "                        \n",
    "                if data_count <= endIndex:\n",
    "                    break\n",
    "                step += 1\n",
    "        \n",
    "        if os.path.exists(output_file):\n",
    "            daily_pummok_df.to_csv(output_file, mode='a', header=False, index=False)\n",
    "        else:\n",
    "            daily_pummok_df.to_csv(output_file, mode='w', header=True, index=False)\n",
    "        \n",
    "        print(f\"{pummok_name}: Saved data for {date}\")\n"
   ]
  }
 ],
 "metadata": {
  "kernelspec": {
   "display_name": "python3.8",
   "language": "python",
   "name": "python3"
  },
  "language_info": {
   "codemirror_mode": {
    "name": "ipython",
    "version": 3
   },
   "file_extension": ".py",
   "mimetype": "text/x-python",
   "name": "python",
   "nbconvert_exporter": "python",
   "pygments_lexer": "ipython3",
   "version": "3.8.15"
  },
  "orig_nbformat": 4
 },
 "nbformat": 4,
 "nbformat_minor": 2
}
