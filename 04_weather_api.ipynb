{
 "cells": [
  {
   "cell_type": "markdown",
   "metadata": {},
   "source": [
    "### 공공데이터포털 _ 기상청_작물별 농업주산지 상세날씨 API "
   ]
  },
  {
   "cell_type": "code",
   "execution_count": 2,
   "metadata": {},
   "outputs": [],
   "source": [
    "import requests\n",
    "import pprint\n",
    "import json\n",
    "import pandas as pd\n",
    "from pandas.io.json import json_normalize\n",
    "from datetime import datetime\n",
    "import os"
   ]
  },
  {
   "cell_type": "code",
   "execution_count": 19,
   "metadata": {},
   "outputs": [],
   "source": [
    "key = \"6eMRkOYgWOwMpHRU%2B8OUaGNyEuTr%2FbM1iGNf5BmXdhhdKFzGuwZ%2FVaQ%2B2yI3%2F%2BTyCvECv7hQzAoRY7U4gzfpEg%3D%3D\"\n",
    "\n",
    "numOfRows = 1000\n",
    "\n",
    "start_date = \"20170101\"\n",
    "end_date = \"20170510\"\n",
    "\n",
    "# url = f\"http://apis.data.go.kr/1360000/FmlandWthrInfoService/getDayStatistics?serviceKey={key}&numOfRows={numOfRows}&pageNo={pageNo}&ST_YMD={start_date}&ED_YMD={end_date}&AREA_ID=&PA_CROP_SPE_ID={spe_code}&dataType=JSON\""
   ]
  },
  {
   "cell_type": "code",
   "execution_count": 20,
   "metadata": {},
   "outputs": [],
   "source": [
    "pummok_list = [\n",
    "    {'pumjongCd_list': ['PA150101'], 'pummok_name': '방울토마토', 'pummok_numb': 1},\n",
    "    {'pumjongCd_list': ['PA350301'], 'pummok_name': '청양고추', 'pummok_numb': 2},\n",
    "    {'pumjongCd_list': ['PA350201'], 'pummok_name': '꽈리고추', 'pummok_numb': 3},\n",
    "    {'pumjongCd_list': ['PA040101'], 'pummok_name': '고구마', 'pummok_numb': 4},\n",
    "    {'pumjongCd_list': ['PA020101', 'PA020201', 'PA020301'], 'pummok_name': '감자', 'pummok_numb': 5},\n",
    "    {'pumjongCd_list': ['PA170201','PA170301','PA170401','PA170101'], 'pummok_name': '배추', 'pummok_numb': 6},\n",
    "    {'pumjongCd_list': ['PA240101','PA240201','PA240301','PA240401'], 'pummok_name': '양배추', 'pummok_numb': 7},\n",
    "    {'pumjongCd_list': ['PA220101'], 'pummok_name': '시금치', 'pummok_numb': 8},\n",
    "    {'pumjongCd_list': ['PA280201'], 'pummok_name': '다다기오이', 'pummok_numb': 11},\n",
    "    {'pumjongCd_list': ['PA280101'], 'pummok_name': '가시오이', 'pummok_numb': 12},\n",
    "    {'pumjongCd_list': ['PA280301'], 'pummok_name': '취청오이', 'pummok_numb': 13},\n",
    "    {'pumjongCd_list': ['PA030101'], 'pummok_name': '건고추', 'pummok_numb': 14},\n",
    "    {'pumjongCd_list': ['PA360101'], 'pummok_name': '애호박', 'pummok_numb': 15},\n",
    "    {'pumjongCd_list': ['PA360201'], 'pummok_name': '쥬키니호박', 'pummok_numb': 16},\n",
    "    {'pumjongCd_list': ['PA130201', 'PA130301', 'PA130401', 'PA130101'], 'pummok_name': '무', 'pummok_numb': 18},\n",
    "    {'pumjongCd_list': ['PA120101','PA120201','PA120301',], 'pummok_name': '깐마늘', 'pummok_numb': 19},\n",
    "    {'pumjongCd_list': ['PA250101','PA250201'], 'pummok_name': '양파', 'pummok_numb': 20},\n",
    "    {'pumjongCd_list': ['PA090101','PA090201','PA090301','PA090401'], 'pummok_name': '대파', 'pummok_numb': 21},\n",
    "    {'pumjongCd_list': ['PA290101'], 'pummok_name': '쪽파', 'pummok_numb': 22},\n",
    "    {'pumjongCd_list': ['PA140101'], 'pummok_name': '미나리', 'pummok_numb': 23},\n",
    "    {'pumjongCd_list': ['PA050101'], 'pummok_name': '깻잎', 'pummok_numb': 24},\n",
    "    {'pumjongCd_list': ['PA260101'], 'pummok_name': '얼갈이배추', 'pummok_numb': 28},\n",
    "    {'pumjongCd_list': ['PA080101','PA080201','PA080301','PA080401'], 'pummok_name': '당근', 'pummok_numb': 29},\n",
    "]\n"
   ]
  },
  {
   "cell_type": "code",
   "execution_count": 21,
   "metadata": {},
   "outputs": [],
   "source": [
    "fail_pummok_list = [\n",
    "    {'pumjongCd_list': ['PA170201','PA170301','PA170401','PA170101'], 'pummok_name': '배추', 'pummok_numb': 6},\n",
    "    {'pumjongCd_list': ['PA130201', 'PA130301', 'PA130401', 'PA130101'], 'pummok_name': '무', 'pummok_numb': 18},\n",
    "    {'pumjongCd_list': ['PA120101','PA120201','PA120301',], 'pummok_name': '깐마늘', 'pummok_numb': 19},\n",
    "    {'pumjongCd_list': ['PA090101','PA090201','PA090301','PA090401'], 'pummok_name': '대파', 'pummok_numb': 21},\n",
    "]\n"
   ]
  },
  {
   "cell_type": "code",
   "execution_count": 22,
   "metadata": {},
   "outputs": [],
   "source": [
    "pummok_list = [\n",
    "    {'pumjongCd_list': ['PA150101'], 'pummok_name': '방울토마토', 'pummok_numb': 1}\n",
    "]\n"
   ]
  },
  {
   "cell_type": "code",
   "execution_count": 23,
   "metadata": {},
   "outputs": [],
   "source": [
    "def filter_items(items, column_names):\n",
    "    filtered_items = []\n",
    "    encountered_values = set()\n",
    "\n",
    "    for item in items:\n",
    "        # 각 열의 값 모두 연결해서 하나의 key로 만들기\n",
    "        key = ':'.join([str(item[col]) for col in column_names])\n",
    "          # 특정 키 값 중복 확인\n",
    "        if key not in encountered_values:\n",
    "            filtered_items.append(item)\n",
    "            encountered_values.add(key)\n",
    "    return filtered_items"
   ]
  },
  {
   "cell_type": "code",
   "execution_count": 24,
   "metadata": {},
   "outputs": [
    {
     "name": "stdout",
     "output_type": "stream",
     "text": [
      "방울토마토\n",
      "방울토마토: Saved data for 1/1\n"
     ]
    }
   ],
   "source": [
    "for pummok in pummok_list:\n",
    "    \n",
    "    spe_code_list = pummok['pumjongCd_list']\n",
    "    spe_name = pummok['pummok_name']\n",
    "    spe_numb = pummok['pummok_numb']\n",
    "\n",
    "    print(spe_name)\n",
    "\n",
    "    output_folder = 'excel_result/weather/'\n",
    "    \n",
    "    if not os.path.exists(output_folder):\n",
    "        os.makedirs(output_folder)\n",
    "\n",
    "    output_file = f'{output_folder}/weather_{spe_numb}_{spe_name}.csv'\n",
    "\n",
    "    for spe_code in spe_code_list:\n",
    "        # 첫 페이지 데이터를 가져와 totalCount를 확인\n",
    "        api_url = f\"http://apis.data.go.kr/1360000/FmlandWthrInfoService/getDayStatistics?serviceKey={key}&numOfRows=1&pageNo=1&ST_YMD={start_date}&ED_YMD={end_date}&AREA_ID=999999999&PA_CROP_SPE_ID={spe_code}&dataType=JSON\"\n",
    "        response = requests.get(api_url)\n",
    "        if response.status_code == 200:\n",
    "            contents = response.text\n",
    "            json_ob = json.loads(contents)\n",
    "\n",
    "            # totalCount 확인\n",
    "            totalCount = json_ob['response']['body']['totalCount']\n",
    "        else:\n",
    "            print(f\"Error {response.status}: failed to fetch totalCount for spe_code {spe_code}\")\n",
    "            continue\n",
    "\n",
    "        pageNo = totalCount // numOfRows if totalCount % numOfRows == 0 else totalCount // numOfRows + 1  # 데이터를 받아오는 횟수\n",
    "\n",
    "        for page in range(1, pageNo + 1):\n",
    "            api_url = f\"http://apis.data.go.kr/1360000/FmlandWthrInfoService/getDayStatistics?serviceKey={key}&numOfRows={numOfRows}&pageNo={page}&ST_YMD={start_date}&ED_YMD={end_date}&AREA_ID=&PA_CROP_SPE_ID={spe_code}&dataType=JSON\"\n",
    "            response = requests.get(api_url)\n",
    "\n",
    "            if response.status_code == 200:\n",
    "                contents = response.text\n",
    "                json_ob = json.loads(contents)\n",
    "\n",
    "                # 'body' 키가 있는지 확인\n",
    "                if 'body' in json_ob['response']:\n",
    "                    items = json_ob['response']['body']['items']['item']\n",
    "                    # 데이터 중 특정 조건에 맞는 아이템만 추출\n",
    "                    filtered_items = filter_items(items, [\"dayAvgRhm\",\"dayAvgTa\",\"dayAvgWs\",\"dayMaxTa\",\"dayMinRhm\",\"dayMinTa\",\"daySumRn\",\"daySumSs\"])\n",
    "                    \n",
    "                    # 데이터프레임 생성\n",
    "                    df = pd.DataFrame(filtered_items)\n",
    "                    df = df.rename(columns={\"areaId\": \"지역코드\", \"areaName\": \"지역이름\", \"dayAvgRhm\": \"평균습도\", \"dayAvgTa\": \"평균온도\", \"dayAvgWs\": \"평균풍속\",\n",
    "                                            \"dayMaxTa\": \"최고온도\", \"dayMinRhm\": \"최저습도\", \"dayMinTa\": \"최저온도\", \"daySumRn\": \"강수량\", \"daySumSs\": \"일조시간\",\n",
    "                                            \"paCropName\": \"품목명\", \"paCropSpeId\": \"품목코드\", \"paCropSpeName\": \"품종명\", \"wrnCd\": \"특보코드\", \"wrnCount\": \"특보여부\", \"ymd\": \"datadate\"})\n",
    "                    # 문자열을 날짜로 변환\n",
    "                    df['datedate'] = pd.to_datetime(df['datadate'])\n",
    "                    # 연, 월, 일을 추출하여 새로운 문자열 생성\n",
    "                    df['datedate'] = df['datedate'].dt.strftime('%Y%m%d').astype(int)\n",
    "\n",
    "                    selected_columns = ['datadate','지역코드','지역이름','품목명','품종명','평균온도','최고온도','최저온도','평균습도','최저습도','강수량','평균풍속','일조시간']\n",
    "                    df = df[selected_columns]\n",
    "\n",
    "                    if os.path.exists(output_file):\n",
    "                        df.to_csv(output_file, mode='a', header=False, index=False)\n",
    "                    else:\n",
    "                        df.to_csv(output_file, mode='w', header=True, index=False)\n",
    "\n",
    "                    print(f\"{spe_name}: Saved data for {page}/{pageNo}\")\n",
    "                # 더 이상 데이터가 없다면 반복문 종료\n",
    "                else:\n",
    "                    print(f\"Finished fetching data for spe_code {spe_code} at page {page}\")\n",
    "                    break\n",
    "            else:\n",
    "                print(f\"Error {response.status}: failed to fetch data for spe_code {spe_code} at page {page}\")\n",
    "                break\n",
    "\n"
   ]
  }
 ],
 "metadata": {
  "kernelspec": {
   "display_name": "python3.8",
   "language": "python",
   "name": "python3"
  },
  "language_info": {
   "codemirror_mode": {
    "name": "ipython",
    "version": 3
   },
   "file_extension": ".py",
   "mimetype": "text/x-python",
   "name": "python",
   "nbconvert_exporter": "python",
   "pygments_lexer": "ipython3",
   "version": "3.8.15"
  },
  "orig_nbformat": 4
 },
 "nbformat": 4,
 "nbformat_minor": 2
}
